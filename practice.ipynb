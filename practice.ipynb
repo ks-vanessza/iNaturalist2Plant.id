{
 "cells": [
  {
   "cell_type": "code",
   "outputs": [],
   "source": [
    "from kindwise.plant import PlantApi\n",
    "from PIL import Image\n",
    "import requests\n",
    "from io import BytesIO"
   ],
   "metadata": {
    "collapsed": false
   },
   "id": "31ccc25423e8e560",
   "execution_count": null
  },
  {
   "cell_type": "code",
   "outputs": [],
   "source": [
    "# URLs of the images\n",
    "image_urls = [\n",
    "    'https://inaturalist-open-data.s3.amazonaws.com/photos/323347027/large.jpg'\n",
    "]\n",
    "\n",
    "\n",
    "# Function to load image from URL\n",
    "def load_image(url):\n",
    "    response = requests.get(url)\n",
    "    img = Image.open(BytesIO(response.content))\n",
    "    return img\n",
    "\n",
    "\n",
    "# Creating PIL.Image.Image objects\n",
    "images = [load_image(url) for url in image_urls]\n",
    "\n",
    "# Now `images` is a list of PIL.Image.Image objects"
   ],
   "metadata": {
    "collapsed": false
   },
   "id": "9f1dd9d03e7970f6",
   "execution_count": null
  },
  {
   "cell_type": "code",
   "execution_count": null,
   "id": "initial_id",
   "metadata": {
    "collapsed": true
   },
   "outputs": [],
   "source": [
    "# initialize plant.id api\n",
    "# \"PLANT_API_KEY\" environment variable can be set instead of specifying api_key\n",
    "api = PlantApi(api_key='YOUR API KEY HERE')\n",
    "\n",
    "# get usage information\n",
    "usage = api.usage_info()\n",
    "usage"
   ]
  },
  {
   "cell_type": "code",
   "outputs": [],
   "source": [
    "# identify plant by image\n",
    "latitude_longitude = (56.1928229525,-4.3778930361)\n",
    "\n",
    "# make identification\n",
    "identification = api.identify(images, latitude_longitude=latitude_longitude)\n",
    "\n",
    "identification"
   ],
   "metadata": {
    "collapsed": false
   },
   "id": "2880e95a759f1570",
   "execution_count": null
  },
  {
   "cell_type": "code",
   "outputs": [],
   "source": [
    "identification\n",
    "identification.result.classification.suggestions[0].name\n",
    "identification.result.classification.suggestions[0].probability\n",
    "identification.result.classification.suggestions[0].similar_images[0].url"
   ],
   "metadata": {
    "collapsed": false
   },
   "id": "288a9fd07ac35722",
   "execution_count": null
  }
 ],
 "metadata": {
  "kernelspec": {
   "display_name": "Python 3",
   "language": "python",
   "name": "python3"
  },
  "language_info": {
   "codemirror_mode": {
    "name": "ipython",
    "version": 2
   },
   "file_extension": ".py",
   "mimetype": "text/x-python",
   "name": "python",
   "nbconvert_exporter": "python",
   "pygments_lexer": "ipython2",
   "version": "2.7.6"
  }
 },
 "nbformat": 4,
 "nbformat_minor": 5
}
